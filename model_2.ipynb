{
 "cells": [
  {
   "attachments": {},
   "cell_type": "markdown",
   "metadata": {},
   "source": [
    "Movie Recommender (Using KNN and Cosine Distance)"
   ]
  },
  {
   "cell_type": "code",
   "execution_count": 3,
   "metadata": {},
   "outputs": [],
   "source": [
    "import numpy as np\n",
    "import pandas as pd"
   ]
  },
  {
   "cell_type": "code",
   "execution_count": 4,
   "metadata": {},
   "outputs": [],
   "source": [
    "df1 = pd.read_csv('Dataset\\movie_small.csv')\n",
    "df2 = pd.read_csv('Dataset\\\\ratings_small.csv')"
   ]
  },
  {
   "cell_type": "code",
   "execution_count": 5,
   "metadata": {},
   "outputs": [],
   "source": [
    "movie = pd.DataFrame()\n",
    "movie = pd.merge(df1,df2, on = 'movieId')"
   ]
  },
  {
   "cell_type": "code",
   "execution_count": 6,
   "metadata": {},
   "outputs": [
    {
     "data": {
      "text/html": [
       "<div>\n",
       "<style scoped>\n",
       "    .dataframe tbody tr th:only-of-type {\n",
       "        vertical-align: middle;\n",
       "    }\n",
       "\n",
       "    .dataframe tbody tr th {\n",
       "        vertical-align: top;\n",
       "    }\n",
       "\n",
       "    .dataframe thead th {\n",
       "        text-align: right;\n",
       "    }\n",
       "</style>\n",
       "<table border=\"1\" class=\"dataframe\">\n",
       "  <thead>\n",
       "    <tr style=\"text-align: right;\">\n",
       "      <th></th>\n",
       "      <th>movieId</th>\n",
       "      <th>title</th>\n",
       "      <th>userId</th>\n",
       "      <th>rating</th>\n",
       "    </tr>\n",
       "  </thead>\n",
       "  <tbody>\n",
       "    <tr>\n",
       "      <th>0</th>\n",
       "      <td>1</td>\n",
       "      <td>Toy Story (1995)</td>\n",
       "      <td>6</td>\n",
       "      <td>5.0</td>\n",
       "    </tr>\n",
       "    <tr>\n",
       "      <th>1</th>\n",
       "      <td>1</td>\n",
       "      <td>Toy Story (1995)</td>\n",
       "      <td>8</td>\n",
       "      <td>4.0</td>\n",
       "    </tr>\n",
       "    <tr>\n",
       "      <th>2</th>\n",
       "      <td>1</td>\n",
       "      <td>Toy Story (1995)</td>\n",
       "      <td>10</td>\n",
       "      <td>4.0</td>\n",
       "    </tr>\n",
       "    <tr>\n",
       "      <th>3</th>\n",
       "      <td>1</td>\n",
       "      <td>Toy Story (1995)</td>\n",
       "      <td>23</td>\n",
       "      <td>4.0</td>\n",
       "    </tr>\n",
       "    <tr>\n",
       "      <th>4</th>\n",
       "      <td>1</td>\n",
       "      <td>Toy Story (1995)</td>\n",
       "      <td>39</td>\n",
       "      <td>5.0</td>\n",
       "    </tr>\n",
       "    <tr>\n",
       "      <th>...</th>\n",
       "      <td>...</td>\n",
       "      <td>...</td>\n",
       "      <td>...</td>\n",
       "      <td>...</td>\n",
       "    </tr>\n",
       "    <tr>\n",
       "      <th>2362</th>\n",
       "      <td>69481</td>\n",
       "      <td>Hurt Locker, The (2008)</td>\n",
       "      <td>6762</td>\n",
       "      <td>4.0</td>\n",
       "    </tr>\n",
       "    <tr>\n",
       "      <th>2363</th>\n",
       "      <td>69746</td>\n",
       "      <td>Watchmen: Tales of the Black Freighter (2009)</td>\n",
       "      <td>1513</td>\n",
       "      <td>5.0</td>\n",
       "    </tr>\n",
       "    <tr>\n",
       "      <th>2364</th>\n",
       "      <td>69784</td>\n",
       "      <td>BrÃ¼no (Bruno) (2009)</td>\n",
       "      <td>6778</td>\n",
       "      <td>1.5</td>\n",
       "    </tr>\n",
       "    <tr>\n",
       "      <th>2365</th>\n",
       "      <td>69951</td>\n",
       "      <td>Imaginarium of Doctor Parnassus, The (2009)</td>\n",
       "      <td>1513</td>\n",
       "      <td>5.0</td>\n",
       "    </tr>\n",
       "    <tr>\n",
       "      <th>2366</th>\n",
       "      <td>72011</td>\n",
       "      <td>Up in the Air (2009)</td>\n",
       "      <td>1513</td>\n",
       "      <td>3.0</td>\n",
       "    </tr>\n",
       "  </tbody>\n",
       "</table>\n",
       "<p>2367 rows × 4 columns</p>\n",
       "</div>"
      ],
      "text/plain": [
       "      movieId                                          title  userId  rating\n",
       "0           1                               Toy Story (1995)       6     5.0\n",
       "1           1                               Toy Story (1995)       8     4.0\n",
       "2           1                               Toy Story (1995)      10     4.0\n",
       "3           1                               Toy Story (1995)      23     4.0\n",
       "4           1                               Toy Story (1995)      39     5.0\n",
       "...       ...                                            ...     ...     ...\n",
       "2362    69481                        Hurt Locker, The (2008)    6762     4.0\n",
       "2363    69746  Watchmen: Tales of the Black Freighter (2009)    1513     5.0\n",
       "2364    69784                          BrÃ¼no (Bruno) (2009)    6778     1.5\n",
       "2365    69951    Imaginarium of Doctor Parnassus, The (2009)    1513     5.0\n",
       "2366    72011                           Up in the Air (2009)    1513     3.0\n",
       "\n",
       "[2367 rows x 4 columns]"
      ]
     },
     "execution_count": 6,
     "metadata": {},
     "output_type": "execute_result"
    }
   ],
   "source": [
    "movie.drop(['genres'],axis = 1, inplace = True)\n",
    "movie"
   ]
  },
  {
   "cell_type": "code",
   "execution_count": 7,
   "metadata": {},
   "outputs": [],
   "source": [
    "import matplotlib.pyplot as plt\n",
    "%matplotlib inline"
   ]
  },
  {
   "cell_type": "code",
   "execution_count": 8,
   "metadata": {},
   "outputs": [
    {
     "data": {
      "text/html": [
       "<div>\n",
       "<style scoped>\n",
       "    .dataframe tbody tr th:only-of-type {\n",
       "        vertical-align: middle;\n",
       "    }\n",
       "\n",
       "    .dataframe tbody tr th {\n",
       "        vertical-align: top;\n",
       "    }\n",
       "\n",
       "    .dataframe thead th {\n",
       "        text-align: right;\n",
       "    }\n",
       "</style>\n",
       "<table border=\"1\" class=\"dataframe\">\n",
       "  <thead>\n",
       "    <tr style=\"text-align: right;\">\n",
       "      <th></th>\n",
       "      <th>rating</th>\n",
       "      <th>no. of ratings</th>\n",
       "    </tr>\n",
       "    <tr>\n",
       "      <th>title</th>\n",
       "      <th></th>\n",
       "      <th></th>\n",
       "    </tr>\n",
       "  </thead>\n",
       "  <tbody>\n",
       "    <tr>\n",
       "      <th>'Round Midnight (1986)</th>\n",
       "      <td>4.00</td>\n",
       "      <td>1</td>\n",
       "    </tr>\n",
       "    <tr>\n",
       "      <th>10 Things I Hate About You (1999)</th>\n",
       "      <td>4.25</td>\n",
       "      <td>2</td>\n",
       "    </tr>\n",
       "    <tr>\n",
       "      <th>101 Dalmatians (1996)</th>\n",
       "      <td>3.50</td>\n",
       "      <td>1</td>\n",
       "    </tr>\n",
       "    <tr>\n",
       "      <th>1492: Conquest of Paradise (1992)</th>\n",
       "      <td>3.00</td>\n",
       "      <td>1</td>\n",
       "    </tr>\n",
       "    <tr>\n",
       "      <th>1900 (Novecento) (1976)</th>\n",
       "      <td>3.00</td>\n",
       "      <td>1</td>\n",
       "    </tr>\n",
       "    <tr>\n",
       "      <th>...</th>\n",
       "      <td>...</td>\n",
       "      <td>...</td>\n",
       "    </tr>\n",
       "    <tr>\n",
       "      <th>Z (1969)</th>\n",
       "      <td>2.00</td>\n",
       "      <td>1</td>\n",
       "    </tr>\n",
       "    <tr>\n",
       "      <th>Zack and Miri Make a Porno (2008)</th>\n",
       "      <td>3.50</td>\n",
       "      <td>1</td>\n",
       "    </tr>\n",
       "    <tr>\n",
       "      <th>Zoolander (2001)</th>\n",
       "      <td>2.25</td>\n",
       "      <td>2</td>\n",
       "    </tr>\n",
       "    <tr>\n",
       "      <th>[REC] (2007)</th>\n",
       "      <td>4.00</td>\n",
       "      <td>1</td>\n",
       "    </tr>\n",
       "    <tr>\n",
       "      <th>eXistenZ (1999)</th>\n",
       "      <td>4.75</td>\n",
       "      <td>2</td>\n",
       "    </tr>\n",
       "  </tbody>\n",
       "</table>\n",
       "<p>1205 rows × 2 columns</p>\n",
       "</div>"
      ],
      "text/plain": [
       "                                   rating  no. of ratings\n",
       "title                                                    \n",
       "'Round Midnight (1986)               4.00               1\n",
       "10 Things I Hate About You (1999)    4.25               2\n",
       "101 Dalmatians (1996)                3.50               1\n",
       "1492: Conquest of Paradise (1992)    3.00               1\n",
       "1900 (Novecento) (1976)              3.00               1\n",
       "...                                   ...             ...\n",
       "Z (1969)                             2.00               1\n",
       "Zack and Miri Make a Porno (2008)    3.50               1\n",
       "Zoolander (2001)                     2.25               2\n",
       "[REC] (2007)                         4.00               1\n",
       "eXistenZ (1999)                      4.75               2\n",
       "\n",
       "[1205 rows x 2 columns]"
      ]
     },
     "execution_count": 8,
     "metadata": {},
     "output_type": "execute_result"
    }
   ],
   "source": [
    "ratings = pd.DataFrame(movie.groupby('title')['rating'].mean())\n",
    "ratings['no. of ratings'] = pd.DataFrame(movie.groupby('title')['rating'].count())\n",
    "ratings"
   ]
  },
  {
   "cell_type": "code",
   "execution_count": 9,
   "metadata": {},
   "outputs": [
    {
     "data": {
      "text/plain": [
       "<AxesSubplot: >"
      ]
     },
     "execution_count": 9,
     "metadata": {},
     "output_type": "execute_result"
    },
    {
     "data": {
      "image/png": "[encoded data removed]",
      "text/plain": [
       "<Figure size 640x480 with 1 Axes>"
      ]
     },
     "metadata": {},
     "output_type": "display_data"
    }
   ],
   "source": [
    "plt.Figure(figsize = (10,4))\n",
    "ratings['no. of ratings'].hist(bins = 70)"
   ]
  },
  {
   "cell_type": "code",
   "execution_count": 10,
   "metadata": {},
   "outputs": [
    {
     "data": {
      "text/plain": [
       "<AxesSubplot: >"
      ]
     },
     "execution_count": 10,
     "metadata": {},
     "output_type": "execute_result"
    },
    {
     "data": {
      "image/png": "[encoded data removed]",
      "text/plain": [
       "<Figure size 640x480 with 1 Axes>"
      ]
     },
     "metadata": {},
     "output_type": "display_data"
    }
   ],
   "source": [
    "plt.Figure(figsize = (10,4))\n",
    "ratings['rating'].hist(bins = 60)"
   ]
  },
  {
   "cell_type": "code",
   "execution_count": 11,
   "metadata": {},
   "outputs": [
    {
     "data": {
      "text/html": [
       "<div>\n",
       "<style scoped>\n",
       "    .dataframe tbody tr th:only-of-type {\n",
       "        vertical-align: middle;\n",
       "    }\n",
       "\n",
       "    .dataframe tbody tr th {\n",
       "        vertical-align: top;\n",
       "    }\n",
       "\n",
       "    .dataframe thead th {\n",
       "        text-align: right;\n",
       "    }\n",
       "</style>\n",
       "<table border=\"1\" class=\"dataframe\">\n",
       "  <thead>\n",
       "    <tr style=\"text-align: right;\">\n",
       "      <th>userId</th>\n",
       "      <th>1</th>\n",
       "      <th>2</th>\n",
       "      <th>3</th>\n",
       "      <th>4</th>\n",
       "      <th>5</th>\n",
       "      <th>6</th>\n",
       "      <th>7</th>\n",
       "      <th>8</th>\n",
       "      <th>9</th>\n",
       "      <th>10</th>\n",
       "      <th>...</th>\n",
       "      <th>6762</th>\n",
       "      <th>6778</th>\n",
       "      <th>6779</th>\n",
       "      <th>6781</th>\n",
       "      <th>6783</th>\n",
       "      <th>6784</th>\n",
       "      <th>6793</th>\n",
       "      <th>6794</th>\n",
       "      <th>6989</th>\n",
       "      <th>7120</th>\n",
       "    </tr>\n",
       "    <tr>\n",
       "      <th>title</th>\n",
       "      <th></th>\n",
       "      <th></th>\n",
       "      <th></th>\n",
       "      <th></th>\n",
       "      <th></th>\n",
       "      <th></th>\n",
       "      <th></th>\n",
       "      <th></th>\n",
       "      <th></th>\n",
       "      <th></th>\n",
       "      <th></th>\n",
       "      <th></th>\n",
       "      <th></th>\n",
       "      <th></th>\n",
       "      <th></th>\n",
       "      <th></th>\n",
       "      <th></th>\n",
       "      <th></th>\n",
       "      <th></th>\n",
       "      <th></th>\n",
       "      <th></th>\n",
       "    </tr>\n",
       "  </thead>\n",
       "  <tbody>\n",
       "    <tr>\n",
       "      <th>'Round Midnight (1986)</th>\n",
       "      <td>3.707031</td>\n",
       "      <td>4.0</td>\n",
       "      <td>4.416667</td>\n",
       "      <td>3.571429</td>\n",
       "      <td>4.409091</td>\n",
       "      <td>3.782609</td>\n",
       "      <td>3.289062</td>\n",
       "      <td>3.542857</td>\n",
       "      <td>2.842105</td>\n",
       "      <td>4.0</td>\n",
       "      <td>...</td>\n",
       "      <td>4.25</td>\n",
       "      <td>3.552632</td>\n",
       "      <td>3.75</td>\n",
       "      <td>3.625</td>\n",
       "      <td>3.925</td>\n",
       "      <td>3.767442</td>\n",
       "      <td>4.076923</td>\n",
       "      <td>4.5</td>\n",
       "      <td>3.487805</td>\n",
       "      <td>4.09375</td>\n",
       "    </tr>\n",
       "    <tr>\n",
       "      <th>10 Things I Hate About You (1999)</th>\n",
       "      <td>3.707031</td>\n",
       "      <td>4.0</td>\n",
       "      <td>4.416667</td>\n",
       "      <td>3.571429</td>\n",
       "      <td>4.409091</td>\n",
       "      <td>3.782609</td>\n",
       "      <td>3.289062</td>\n",
       "      <td>3.542857</td>\n",
       "      <td>2.842105</td>\n",
       "      <td>4.0</td>\n",
       "      <td>...</td>\n",
       "      <td>4.25</td>\n",
       "      <td>3.552632</td>\n",
       "      <td>3.75</td>\n",
       "      <td>3.625</td>\n",
       "      <td>3.925</td>\n",
       "      <td>3.767442</td>\n",
       "      <td>4.076923</td>\n",
       "      <td>4.5</td>\n",
       "      <td>3.487805</td>\n",
       "      <td>4.09375</td>\n",
       "    </tr>\n",
       "    <tr>\n",
       "      <th>101 Dalmatians (1996)</th>\n",
       "      <td>3.707031</td>\n",
       "      <td>4.0</td>\n",
       "      <td>4.416667</td>\n",
       "      <td>3.571429</td>\n",
       "      <td>4.409091</td>\n",
       "      <td>3.782609</td>\n",
       "      <td>3.289062</td>\n",
       "      <td>3.542857</td>\n",
       "      <td>2.842105</td>\n",
       "      <td>4.0</td>\n",
       "      <td>...</td>\n",
       "      <td>4.25</td>\n",
       "      <td>3.552632</td>\n",
       "      <td>3.75</td>\n",
       "      <td>3.625</td>\n",
       "      <td>3.925</td>\n",
       "      <td>3.767442</td>\n",
       "      <td>4.076923</td>\n",
       "      <td>4.5</td>\n",
       "      <td>3.487805</td>\n",
       "      <td>4.09375</td>\n",
       "    </tr>\n",
       "    <tr>\n",
       "      <th>1492: Conquest of Paradise (1992)</th>\n",
       "      <td>3.707031</td>\n",
       "      <td>4.0</td>\n",
       "      <td>4.416667</td>\n",
       "      <td>3.571429</td>\n",
       "      <td>4.409091</td>\n",
       "      <td>3.782609</td>\n",
       "      <td>3.289062</td>\n",
       "      <td>3.542857</td>\n",
       "      <td>2.842105</td>\n",
       "      <td>4.0</td>\n",
       "      <td>...</td>\n",
       "      <td>4.25</td>\n",
       "      <td>3.552632</td>\n",
       "      <td>3.75</td>\n",
       "      <td>3.625</td>\n",
       "      <td>3.925</td>\n",
       "      <td>3.767442</td>\n",
       "      <td>4.076923</td>\n",
       "      <td>4.5</td>\n",
       "      <td>3.487805</td>\n",
       "      <td>4.09375</td>\n",
       "    </tr>\n",
       "    <tr>\n",
       "      <th>1900 (Novecento) (1976)</th>\n",
       "      <td>3.707031</td>\n",
       "      <td>4.0</td>\n",
       "      <td>4.416667</td>\n",
       "      <td>3.571429</td>\n",
       "      <td>4.409091</td>\n",
       "      <td>3.782609</td>\n",
       "      <td>3.289062</td>\n",
       "      <td>3.542857</td>\n",
       "      <td>2.842105</td>\n",
       "      <td>4.0</td>\n",
       "      <td>...</td>\n",
       "      <td>4.25</td>\n",
       "      <td>3.552632</td>\n",
       "      <td>3.75</td>\n",
       "      <td>3.625</td>\n",
       "      <td>3.925</td>\n",
       "      <td>3.767442</td>\n",
       "      <td>4.076923</td>\n",
       "      <td>4.5</td>\n",
       "      <td>3.487805</td>\n",
       "      <td>4.09375</td>\n",
       "    </tr>\n",
       "  </tbody>\n",
       "</table>\n",
       "<p>5 rows × 74 columns</p>\n",
       "</div>"
      ],
      "text/plain": [
       "userId                                 1     2         3         4     \\\n",
       "title                                                                   \n",
       "'Round Midnight (1986)             3.707031   4.0  4.416667  3.571429   \n",
       "10 Things I Hate About You (1999)  3.707031   4.0  4.416667  3.571429   \n",
       "101 Dalmatians (1996)              3.707031   4.0  4.416667  3.571429   \n",
       "1492: Conquest of Paradise (1992)  3.707031   4.0  4.416667  3.571429   \n",
       "1900 (Novecento) (1976)            3.707031   4.0  4.416667  3.571429   \n",
       "\n",
       "userId                                 5         6         7         8     \\\n",
       "title                                                                       \n",
       "'Round Midnight (1986)             4.409091  3.782609  3.289062  3.542857   \n",
       "10 Things I Hate About You (1999)  4.409091  3.782609  3.289062  3.542857   \n",
       "101 Dalmatians (1996)              4.409091  3.782609  3.289062  3.542857   \n",
       "1492: Conquest of Paradise (1992)  4.409091  3.782609  3.289062  3.542857   \n",
       "1900 (Novecento) (1976)            4.409091  3.782609  3.289062  3.542857   \n",
       "\n",
       "userId                                 9     10    ...  6762      6778  6779  \\\n",
       "title                                              ...                         \n",
       "'Round Midnight (1986)             2.842105   4.0  ...  4.25  3.552632  3.75   \n",
       "10 Things I Hate About You (1999)  2.842105   4.0  ...  4.25  3.552632  3.75   \n",
       "101 Dalmatians (1996)              2.842105   4.0  ...  4.25  3.552632  3.75   \n",
       "1492: Conquest of Paradise (1992)  2.842105   4.0  ...  4.25  3.552632  3.75   \n",
       "1900 (Novecento) (1976)            2.842105   4.0  ...  4.25  3.552632  3.75   \n",
       "\n",
       "userId                              6781   6783      6784      6793  6794  \\\n",
       "title                                                                       \n",
       "'Round Midnight (1986)             3.625  3.925  3.767442  4.076923   4.5   \n",
       "10 Things I Hate About You (1999)  3.625  3.925  3.767442  4.076923   4.5   \n",
       "101 Dalmatians (1996)              3.625  3.925  3.767442  4.076923   4.5   \n",
       "1492: Conquest of Paradise (1992)  3.625  3.925  3.767442  4.076923   4.5   \n",
       "1900 (Novecento) (1976)            3.625  3.925  3.767442  4.076923   4.5   \n",
       "\n",
       "userId                                 6989     7120  \n",
       "title                                                 \n",
       "'Round Midnight (1986)             3.487805  4.09375  \n",
       "10 Things I Hate About You (1999)  3.487805  4.09375  \n",
       "101 Dalmatians (1996)              3.487805  4.09375  \n",
       "1492: Conquest of Paradise (1992)  3.487805  4.09375  \n",
       "1900 (Novecento) (1976)            3.487805  4.09375  \n",
       "\n",
       "[5 rows x 74 columns]"
      ]
     },
     "execution_count": 11,
     "metadata": {},
     "output_type": "execute_result"
    }
   ],
   "source": [
    "moviemat = pd.pivot_table(movie, index = 'title', columns = 'userId', values = 'rating')\n",
    "moviemat.fillna(moviemat.mean(),inplace = True)\n",
    "moviemat.head()"
   ]
  },
  {
   "cell_type": "code",
   "execution_count": 12,
   "metadata": {},
   "outputs": [
    {
     "data": {
      "text/plain": [
       "<1205x74 sparse matrix of type '<class 'numpy.float64'>'\n",
       "\twith 89170 stored elements in Compressed Sparse Row format>"
      ]
     },
     "execution_count": 12,
     "metadata": {},
     "output_type": "execute_result"
    }
   ],
   "source": [
    "from scipy.sparse import csr_matrix\n",
    "movie_matrix = csr_matrix(moviemat.values)\n",
    "movie_matrix"
   ]
  },
  {
   "cell_type": "code",
   "execution_count": 14,
   "metadata": {},
   "outputs": [
    {
     "data": {
      "text/html": [
       "<style>#sk-container-id-1 {color: black;background-color: white;}#sk-container-id-1 pre{padding: 0;}#sk-container-id-1 div.sk-toggleable {background-color: white;}#sk-container-id-1 label.sk-toggleable__label {cursor: pointer;display: block;width: 100%;margin-bottom: 0;padding: 0.3em;box-sizing: border-box;text-align: center;}#sk-container-id-1 label.sk-toggleable__label-arrow:before {content: \"▸\";float: left;margin-right: 0.25em;color: #696969;}#sk-container-id-1 label.sk-toggleable__label-arrow:hover:before {color: black;}#sk-container-id-1 div.sk-estimator:hover label.sk-toggleable__label-arrow:before {color: black;}#sk-container-id-1 div.sk-toggleable__content {max-height: 0;max-width: 0;overflow: hidden;text-align: left;background-color: #f0f8ff;}#sk-container-id-1 div.sk-toggleable__content pre {margin: 0.2em;color: black;border-radius: 0.25em;background-color: #f0f8ff;}#sk-container-id-1 input.sk-toggleable__control:checked~div.sk-toggleable__content {max-height: 200px;max-width: 100%;overflow: auto;}#sk-container-id-1 input.sk-toggleable__control:checked~label.sk-toggleable__label-arrow:before {content: \"▾\";}#sk-container-id-1 div.sk-estimator input.sk-toggleable__control:checked~label.sk-toggleable__label {background-color: #d4ebff;}#sk-container-id-1 div.sk-label input.sk-toggleable__control:checked~label.sk-toggleable__label {background-color: #d4ebff;}#sk-container-id-1 input.sk-hidden--visually {border: 0;clip: rect(1px 1px 1px 1px);clip: rect(1px, 1px, 1px, 1px);height: 1px;margin: -1px;overflow: hidden;padding: 0;position: absolute;width: 1px;}#sk-container-id-1 div.sk-estimator {font-family: monospace;background-color: #f0f8ff;border: 1px dotted black;border-radius: 0.25em;box-sizing: border-box;margin-bottom: 0.5em;}#sk-container-id-1 div.sk-estimator:hover {background-color: #d4ebff;}#sk-container-id-1 div.sk-parallel-item::after {content: \"\";width: 100%;border-bottom: 1px solid gray;flex-grow: 1;}#sk-container-id-1 div.sk-label:hover label.sk-toggleable__label {background-color: #d4ebff;}#sk-container-id-1 div.sk-serial::before {content: \"\";position: absolute;border-left: 1px solid gray;box-sizing: border-box;top: 0;bottom: 0;left: 50%;z-index: 0;}#sk-container-id-1 div.sk-serial {display: flex;flex-direction: column;align-items: center;background-color: white;padding-right: 0.2em;padding-left: 0.2em;position: relative;}#sk-container-id-1 div.sk-item {position: relative;z-index: 1;}#sk-container-id-1 div.sk-parallel {display: flex;align-items: stretch;justify-content: center;background-color: white;position: relative;}#sk-container-id-1 div.sk-item::before, #sk-container-id-1 div.sk-parallel-item::before {content: \"\";position: absolute;border-left: 1px solid gray;box-sizing: border-box;top: 0;bottom: 0;left: 50%;z-index: -1;}#sk-container-id-1 div.sk-parallel-item {display: flex;flex-direction: column;z-index: 1;position: relative;background-color: white;}#sk-container-id-1 div.sk-parallel-item:first-child::after {align-self: flex-end;width: 50%;}#sk-container-id-1 div.sk-parallel-item:last-child::after {align-self: flex-start;width: 50%;}#sk-container-id-1 div.sk-parallel-item:only-child::after {width: 0;}#sk-container-id-1 div.sk-dashed-wrapped {border: 1px dashed gray;margin: 0 0.4em 0.5em 0.4em;box-sizing: border-box;padding-bottom: 0.4em;background-color: white;}#sk-container-id-1 div.sk-label label {font-family: monospace;font-weight: bold;display: inline-block;line-height: 1.2em;}#sk-container-id-1 div.sk-label-container {text-align: center;}#sk-container-id-1 div.sk-container {/* jupyter's `normalize.less` sets `[hidden] { display: none; }` but bootstrap.min.css set `[hidden] { display: none !important; }` so we also need the `!important` here to be able to override the default hidden behavior on the sphinx rendered scikit-learn.org. See: https://github.com/scikit-learn/scikit-learn/issues/21755 */display: inline-block !important;position: relative;}#sk-container-id-1 div.sk-text-repr-fallback {display: none;}</style><div id=\"sk-container-id-1\" class=\"sk-top-container\"><div class=\"sk-text-repr-fallback\"><pre>NearestNeighbors(algorithm=&#x27;brute&#x27;, metric=&#x27;cosine&#x27;)</pre><b>In a Jupyter environment, please rerun this cell to show the HTML representation or trust the notebook. <br />On GitHub, the HTML representation is unable to render, please try loading this page with nbviewer.org.</b></div><div class=\"sk-container\" hidden><div class=\"sk-item\"><div class=\"sk-estimator sk-toggleable\"><input class=\"sk-toggleable__control sk-hidden--visually\" id=\"sk-estimator-id-1\" type=\"checkbox\" checked><label for=\"sk-estimator-id-1\" class=\"sk-toggleable__label sk-toggleable__label-arrow\">NearestNeighbors</label><div class=\"sk-toggleable__content\"><pre>NearestNeighbors(algorithm=&#x27;brute&#x27;, metric=&#x27;cosine&#x27;)</pre></div></div></div></div></div>"
      ],
      "text/plain": [
       "NearestNeighbors(algorithm='brute', metric='cosine')"
      ]
     },
     "execution_count": 14,
     "metadata": {},
     "output_type": "execute_result"
    }
   ],
   "source": [
    "from sklearn.neighbors import NearestNeighbors\n",
    "model = NearestNeighbors(metric = 'cosine', algorithm = 'brute')\n",
    "model.fit(movie_matrix)"
   ]
  },
  {
   "cell_type": "code",
   "execution_count": 16,
   "metadata": {},
   "outputs": [
    {
     "name": "stdout",
     "output_type": "stream",
     "text": [
      "[[4.4408921e-16 4.4408921e-16 4.4408921e-16 4.4408921e-16 4.4408921e-16\n",
      "  4.4408921e-16]]\n",
      "[[1001  439  316   14 1062 1182]]\n"
     ]
    }
   ],
   "source": [
    "\n",
    "np.random.seed(5)\n",
    "movie_id = np.random.choice(moviemat.shape[0])\n",
    "distances, indices = model.kneighbors(moviemat.iloc[movie_id,:].values.reshape(1,-1),n_neighbors=6)\n",
    "print(distances)\n",
    "print(indices)"
   ]
  },
  {
   "cell_type": "code",
   "execution_count": 17,
   "metadata": {},
   "outputs": [
    {
     "name": "stdout",
     "output_type": "stream",
     "text": [
      "Recommendation for Purple Rose of Cairo, The (1985): \n",
      "\n",
      "1: Full Monty, The (1997) with distance: 4.440892098500626e-16\n",
      "\n",
      "2: Dirty Dancing (1987) with distance: 4.440892098500626e-16\n",
      "\n",
      "3: 400 Blows, The (Les quatre cents coups) (1959) with distance: 4.440892098500626e-16\n",
      "\n",
      "4: Tale of Springtime, A (Conte de Printemps) (1990) with distance: 4.440892098500626e-16\n",
      "\n",
      "5: Witness for the Prosecution (1957) with distance: 4.440892098500626e-16\n",
      "\n"
     ]
    }
   ],
   "source": [
    "d = distances.flatten()\n",
    "for i in range(0,len(d)):\n",
    "    if i == 0:\n",
    "        print(\"Recommendation for {0}: \\n\".format(moviemat.index[movie_id]))\n",
    "    else:\n",
    "        ind = moviemat.index[indices.flatten()]\n",
    "        print(\"{0}: {1} with distance: {2}\\n\".format(i,ind[i],d[i]))\n"
   ]
  },
  {
   "cell_type": "code",
   "execution_count": null,
   "metadata": {},
   "outputs": [],
   "source": [
    "import pickle \n",
    "saved_model = pickle.dump(model,open('model.pkl','wb'))"
   ]
  },
  {
   "cell_type": "code",
   "execution_count": 60,
   "metadata": {},
   "outputs": [],
   "source": [
    "def recommend1(movieName):\n",
    "    distances, indices = model.kneighbors(moviemat.loc[movieName,:].values.reshape(1,-1),n_neighbors=7)\n",
    "    print(distances)\n",
    "    print(indices)\n",
    "    d = distances.flatten()\n",
    "    for i in range(0,len(d)):\n",
    "        if i == 0:\n",
    "            print(\"\\nRecommendation for {0}: \\n\".format(movieName))\n",
    "        else:\n",
    "            ind = moviemat.index[indices.flatten()]\n",
    "            print(\"{0}: {1} with distance: {2}\\n\".format(i,ind[i],d[i]))"
   ]
  },
  {
   "cell_type": "code",
   "execution_count": 59,
   "metadata": {},
   "outputs": [
    {
     "name": "stdout",
     "output_type": "stream",
     "text": [
      "[[1.11022302e-16 2.64922461e-03 2.67123659e-03 3.25161655e-03\n",
      "  3.31272543e-03 3.35896177e-03 3.35896177e-03]]\n",
      "[[1101  929  289 1143  105  182  165]]\n",
      "\n",
      "Recommendation for Toy Story (1995): \n",
      "\n",
      "1: Sabrina (1995) with distance: 0.0026492246070145553\n",
      "\n",
      "2: Dead Man Walking (1995) with distance: 0.002671236587010295\n",
      "\n",
      "3: Waiting to Exhale (1995) with distance: 0.0032516165484147708\n",
      "\n",
      "4: Basquiat (1996) with distance: 0.003312725425715146\n",
      "\n",
      "5: Browning Version, The (1994) with distance: 0.003358961774523217\n",
      "\n",
      "6: Boys of St. Vincent, The (1992) with distance: 0.003358961774523217\n",
      "\n"
     ]
    }
   ],
   "source": [
    "recommend1(\"Toy Story (1995)\")"
   ]
  },
  {
   "cell_type": "code",
   "execution_count": 79,
   "metadata": {},
   "outputs": [],
   "source": [
    "def recommend2(movieName):\n",
    "    distances, indices = model.kneighbors(moviemat.loc[movieName,:].values.reshape(1,-1),n_neighbors=7)\n",
    "    movie_list = {}\n",
    "    print(distances)\n",
    "    print(indices)\n",
    "    d = distances.flatten()\n",
    "    for i in range(0,len(d)):\n",
    "        if i > 0:\n",
    "            ind = moviemat.index[indices.flatten()]\n",
    "            # print(\"{0}: {1} with distance: {2}\\n\".format(i,ind[i],d[i]))\n",
    "            movie_list[ind[i]] = d[i]\n",
    "    df = pd.DataFrame(movie_list.items(), columns=['Movie Name','Closeness'])\n",
    "    return df"
   ]
  },
  {
   "cell_type": "code",
   "execution_count": 81,
   "metadata": {},
   "outputs": [
    {
     "name": "stdout",
     "output_type": "stream",
     "text": [
      "[[0.         0.0007695  0.00100758 0.00131806 0.0013511  0.00138134\n",
      "  0.00141406]]\n",
      "[[ 929 1143  715 1124  858  797 1112]]\n"
     ]
    },
    {
     "data": {
      "text/html": [
       "<div>\n",
       "<style scoped>\n",
       "    .dataframe tbody tr th:only-of-type {\n",
       "        vertical-align: middle;\n",
       "    }\n",
       "\n",
       "    .dataframe tbody tr th {\n",
       "        vertical-align: top;\n",
       "    }\n",
       "\n",
       "    .dataframe thead th {\n",
       "        text-align: right;\n",
       "    }\n",
       "</style>\n",
       "<table border=\"1\" class=\"dataframe\">\n",
       "  <thead>\n",
       "    <tr style=\"text-align: right;\">\n",
       "      <th></th>\n",
       "      <th>Movie Name</th>\n",
       "      <th>Closeness</th>\n",
       "    </tr>\n",
       "  </thead>\n",
       "  <tbody>\n",
       "    <tr>\n",
       "      <th>0</th>\n",
       "      <td>Waiting to Exhale (1995)</td>\n",
       "      <td>0.000769</td>\n",
       "    </tr>\n",
       "    <tr>\n",
       "      <th>1</th>\n",
       "      <td>Mighty Aphrodite (1995)</td>\n",
       "      <td>0.001008</td>\n",
       "    </tr>\n",
       "    <tr>\n",
       "      <th>2</th>\n",
       "      <td>Up Close and Personal (1996)</td>\n",
       "      <td>0.001318</td>\n",
       "    </tr>\n",
       "    <tr>\n",
       "      <th>3</th>\n",
       "      <td>Primal Fear (1996)</td>\n",
       "      <td>0.001351</td>\n",
       "    </tr>\n",
       "    <tr>\n",
       "      <th>4</th>\n",
       "      <td>Nutty Professor, The (1996)</td>\n",
       "      <td>0.001381</td>\n",
       "    </tr>\n",
       "    <tr>\n",
       "      <th>5</th>\n",
       "      <td>Truth About Cats &amp; Dogs, The (1996)</td>\n",
       "      <td>0.001414</td>\n",
       "    </tr>\n",
       "  </tbody>\n",
       "</table>\n",
       "</div>"
      ],
      "text/plain": [
       "                            Movie Name  Closeness\n",
       "0             Waiting to Exhale (1995)   0.000769\n",
       "1              Mighty Aphrodite (1995)   0.001008\n",
       "2         Up Close and Personal (1996)   0.001318\n",
       "3                   Primal Fear (1996)   0.001351\n",
       "4          Nutty Professor, The (1996)   0.001381\n",
       "5  Truth About Cats & Dogs, The (1996)   0.001414"
      ]
     },
     "execution_count": 81,
     "metadata": {},
     "output_type": "execute_result"
    }
   ],
   "source": [
    "recommendations = recommend2(\"Sabrina (1995)\")\n",
    "recommendations"
   ]
  },
  {
   "cell_type": "code",
   "execution_count": null,
   "metadata": {},
   "outputs": [],
   "source": []
  }
 ],
 "metadata": {
  "kernelspec": {
   "display_name": "Python 3",
   "language": "python",
   "name": "python3"
  },
  "language_info": {
   "codemirror_mode": {
    "name": "ipython",
    "version": 3
   },
   "file_extension": ".py",
   "mimetype": "text/x-python",
   "name": "python",
   "nbconvert_exporter": "python",
   "pygments_lexer": "ipython3",
   "version": "3.10.1"
  },
  "orig_nbformat": 4,
  "vscode": {
   "interpreter": {
    "hash": "6589f82916e0372512164f6d74c2072ab0f01ddbc3a7c0737949c752e7bd5a0e"
   }
  }
 },
 "nbformat": 4,
 "nbformat_minor": 2
}
